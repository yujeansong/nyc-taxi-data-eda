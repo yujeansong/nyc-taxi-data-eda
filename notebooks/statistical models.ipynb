{
 "cells": [
  {
   "cell_type": "code",
   "execution_count": 15,
   "metadata": {},
   "outputs": [],
   "source": [
    "\"\"\"\n",
    "Create a Spark Session\n",
    "\n",
    "\"\"\"\n",
    "\n",
    "from pyspark.sql import SparkSession\n",
    "import pyarrow.parquet as pq\n",
    "spark = (\n",
    "    SparkSession.builder.appName(\"MAST30034 Assignment\")\n",
    "    .config(\"spark.sql.repl.eagerEval.enabled\", True) \n",
    "    .config(\"spark.sql.parquet.cacheMetadata\", \"true\")\n",
    "    .config(\"spark.sql.session.timeZone\", \"Etc/UTC\")\n",
    "    .getOrCreate()\n",
    ")"
   ]
  },
  {
   "cell_type": "code",
   "execution_count": 16,
   "metadata": {},
   "outputs": [
    {
     "name": "stderr",
     "output_type": "stream",
     "text": [
      "[Stage 20:===========================================>              (3 + 1) / 4]\r"
     ]
    },
    {
     "name": "stdout",
     "output_type": "stream",
     "text": [
      "+----+-----------+-------------+----------------+-----+-----+\n",
      "|hour|day of week|      Borough|temp_categorized|event|count|\n",
      "+----+-----------+-------------+----------------+-----+-----+\n",
      "|   3|          7|        Bronx|            Cold|false|    5|\n",
      "|   4|          5|          EWR|            Cold|false|    1|\n",
      "|  14|          6|       Queens|            Cold|false|  891|\n",
      "|  15|          6|    Manhattan|            Cold|false|15740|\n",
      "|   7|          3|        Bronx|            Cold|false|   61|\n",
      "|   9|          3|     Brooklyn|            Cold|false|  142|\n",
      "|  15|          2|    Manhattan|            Cold|false|10635|\n",
      "|   8|          5|          EWR|            Cold|false|    2|\n",
      "|   6|          2|    Manhattan|            Cold|false| 6111|\n",
      "|  23|          5|        Bronx|            Cold|false|   10|\n",
      "|  13|          6|Staten Island|            Cold|false|    1|\n",
      "|   5|          3|        Bronx|            Cold|false|   24|\n",
      "|  17|          5|    Manhattan|            Cold|false|14982|\n",
      "|  19|          4|Staten Island|            Cold|false|    1|\n",
      "|  16|          7|    Manhattan|            Cold|false|12096|\n",
      "|   3|          7|       Queens|            Cold|false|  106|\n",
      "|   5|          7|    Manhattan|            Cold|false| 1446|\n",
      "|   7|          1|    Manhattan|            Cold|false| 2629|\n",
      "|   6|          4|       Queens|            Cold|false|  436|\n",
      "|   7|          4|       Queens|            Cold|false|  647|\n",
      "+----+-----------+-------------+----------------+-----+-----+\n",
      "only showing top 20 rows\n",
      "\n"
     ]
    },
    {
     "name": "stderr",
     "output_type": "stream",
     "text": [
      "                                                                                \r"
     ]
    }
   ],
   "source": [
    "# import curated data for SVM machine learning \n",
    "from pyspark.sql import SparkSession\n",
    "from pyspark.sql.functions import col\n",
    "\n",
    "\n",
    "data = spark.read.parquet(\"data/curated/curated_yellow_taxi.parquet\")\n",
    "data = data.groupBy('date', 'hour', 'day of week', 'Borough', 'temp_categorized', 'event').count().drop('date')\n",
    "data = data.filter(col('Borough') != \"Unknown\")\n",
    "\n",
    "data.show()"
   ]
  },
  {
   "cell_type": "code",
   "execution_count": 17,
   "metadata": {},
   "outputs": [
    {
     "name": "stderr",
     "output_type": "stream",
     "text": [
      "                                                                                \r"
     ]
    },
    {
     "name": "stdout",
     "output_type": "stream",
     "text": [
      "+----+-----------+-------+-----+---------------+----+\n",
      "|hour|day of week|borough|event|demand per hour|temp|\n",
      "+----+-----------+-------+-----+---------------+----+\n",
      "|   3|          7|    3.0|false|       very low| 1.0|\n",
      "|   4|          5|    5.0|false|            NaN| 1.0|\n",
      "|  14|          6|    2.0|false|           high| 1.0|\n",
      "|  15|          6|    1.0|false|      very high| 1.0|\n",
      "|   7|          3|    3.0|false|            low| 1.0|\n",
      "|   9|          3|    0.0|false|         medium| 1.0|\n",
      "|  15|          2|    1.0|false|      very high| 1.0|\n",
      "|   8|          5|    5.0|false|       very low| 1.0|\n",
      "|   6|          2|    1.0|false|      very high| 1.0|\n",
      "|  23|          5|    3.0|false|       very low| 1.0|\n",
      "|  13|          6|    4.0|false|            NaN| 1.0|\n",
      "|   5|          3|    3.0|false|            low| 1.0|\n",
      "|  17|          5|    1.0|false|      very high| 1.0|\n",
      "|  19|          4|    4.0|false|            NaN| 1.0|\n",
      "|  16|          7|    1.0|false|      very high| 1.0|\n",
      "|   3|          7|    2.0|false|         medium| 1.0|\n",
      "|   5|          7|    1.0|false|           high| 1.0|\n",
      "|   7|          1|    1.0|false|      very high| 1.0|\n",
      "|   6|          4|    2.0|false|           high| 1.0|\n",
      "|   7|          4|    2.0|false|           high| 1.0|\n",
      "+----+-----------+-------+-----+---------------+----+\n",
      "only showing top 20 rows\n",
      "\n"
     ]
    }
   ],
   "source": [
    "\"\"\"\n",
    "Transform the count column into different categories of intensity\n",
    "\n",
    "\"\"\"\n",
    "from pyspark.sql.functions import col, when, split\n",
    "import pandas as pd\n",
    "from pyspark.ml.feature import StringIndexer\n",
    "import numpy as np\n",
    "\n",
    "data_count = data.select(col(\"count\"))\n",
    "data_count = data_count.toPandas()\n",
    "data_count_column = data_count[\"count\"].to_numpy()\n",
    "sort_data_count = np.sort(data_count_column)\n",
    "quantiles = np.percentile(sort_data_count, [20, 40, 60, 80])\n",
    "\n",
    "# Define bucket boundaries based on quantiles\n",
    "bucket_boundaries = [min(data_count[\"count\"])] + quantiles.tolist() + [max(data_count[\"count\"])]\n",
    "# Assign category labels based on bucket boundaries\n",
    "categories = pd.cut(data_count_column, bins=bucket_boundaries, labels=[\"very low\", \"low\", \"medium\", \"high\", \"very high\"])\n",
    "\n",
    "count_df = pd.DataFrame({'demand per hour': categories})\n",
    "model_data = data.toPandas()[['hour', 'day of week', 'Borough', 'temp_categorized', 'event']]\n",
    "model_data['demand per hour'] = count_df['demand per hour']\n",
    "\n",
    "model_data = spark.createDataFrame(model_data)\n",
    "\n",
    "# Use StringIndexer to label encode borough\n",
    "string_indexer = StringIndexer(inputCol='Borough', outputCol='borough')\n",
    "indexed = string_indexer.fit(model_data)\n",
    "formatted_model = indexed.transform(model_data)\n",
    "\n",
    "# Use StringIndexer to label encode temp\n",
    "string_indexer = StringIndexer(inputCol='temp_categorized', outputCol='temp')\n",
    "indexed = string_indexer.fit(model_data)\n",
    "formatted_model = indexed.transform(formatted_model).drop(\"temp_categorized\")\n",
    "\n",
    "formatted_model.show()"
   ]
  },
  {
   "cell_type": "code",
   "execution_count": 18,
   "metadata": {},
   "outputs": [],
   "source": [
    "import numpy as np\n",
    "from sklearn import datasets\n",
    "from sklearn.model_selection import train_test_split\n",
    "from sklearn.svm import SVC\n",
    "from sklearn.metrics import accuracy_score\n",
    "\n",
    "\n",
    "\n",
    "# Split the data into training and testing sets\n",
    "train_data, test_data = formatted_model.randomSplit([0.8, 0.2], seed=42)\n",
    "train_data, test_data = train_data.toPandas(), test_data.toPandas()\n",
    "#print(train_data)\n",
    "#print(test_data)\n",
    "\n",
    "x_cols = [\"hour\", \"day of week\", \"borough\", \"temp\", \"event\"]\n",
    "target = \"demand per hour\"\n",
    "\n",
    "trainX, trainY, testX, testY = train_data[x_cols], train_data[target], test_data[x_cols], test_data[target]\n",
    "\n"
   ]
  },
  {
   "cell_type": "code",
   "execution_count": 19,
   "metadata": {},
   "outputs": [
    {
     "name": "stdout",
     "output_type": "stream",
     "text": [
      "Accuracy: 0.8379156847342236\n",
      "Precision: 0.8304657890267091\n",
      "Recall: 0.8337015827318682\n",
      "F1 Score: 0.8240088828081165\n"
     ]
    },
    {
     "data": {
      "image/png": "[encoded data removed]",
      "text/plain": [
       "<Figure size 576x432 with 2 Axes>"
      ]
     },
     "metadata": {
      "needs_background": "light"
     },
     "output_type": "display_data"
    }
   ],
   "source": [
    "from sklearn.preprocessing import StandardScaler\n",
    "from sklearn.metrics import accuracy_score, confusion_matrix, precision_score, recall_score, f1_score, ConfusionMatrixDisplay\n",
    "import seaborn as sns\n",
    "import matplotlib.pyplot as plt\n",
    "\n",
    "# Standardize the numerical features\n",
    "scaler = StandardScaler()\n",
    "trainX_scaled = scaler.fit_transform(trainX)\n",
    "testX_scaled = scaler.transform(testX)\n",
    "\n",
    "# Perform SVM \n",
    "svm_model = SVC(kernel='rbf')  \n",
    "svm_model.fit(trainX_scaled, trainY)\n",
    "\n",
    "y_pred = svm_model.predict(testX_scaled)\n",
    "\n",
    "accuracy = accuracy_score(testY, y_pred)\n",
    "print(\"Accuracy:\", accuracy)\n",
    "precision = precision_score(testY, y_pred, average='macro')\n",
    "recall = recall_score(testY, y_pred, average='macro')\n",
    "f1 = f1_score(testY, y_pred, average='macro')\n",
    "\n",
    "print(\"Precision:\", precision)\n",
    "print(\"Recall:\", recall)\n",
    "print(\"F1 Score:\", f1)\n",
    "\n",
    "conf_matrix = confusion_matrix(testY, y_pred)\n",
    "\n",
    "# Plot the confusion matrix as a heatmap\n",
    "plt.figure(figsize=(8, 6))\n",
    "sns.heatmap(conf_matrix, annot=True, fmt=\"d\", cmap=\"Blues\")\n",
    "plt.title(\"Confusion Matrix\")\n",
    "plt.xlabel(\"Predicted Labels\")\n",
    "plt.ylabel(\"True Labels\")\n",
    "plt.show()\n"
   ]
  },
  {
   "cell_type": "code",
   "execution_count": 20,
   "metadata": {},
   "outputs": [
    {
     "name": "stdout",
     "output_type": "stream",
     "text": [
      "Accuracy: 0.8842628960460853\n",
      "Precision: 0.8589319218547681\n",
      "Recall: 0.861373903152062\n",
      "F1 Score: 0.8596397483623829\n"
     ]
    },
    {
     "data": {
      "image/png": "[encoded data removed]",
      "text/plain": [
       "<Figure size 576x432 with 2 Axes>"
      ]
     },
     "metadata": {
      "needs_background": "light"
     },
     "output_type": "display_data"
    }
   ],
   "source": [
    "# Random Forest \n",
    "from sklearn.ensemble import RandomForestClassifier\n",
    "from sklearn.metrics import accuracy_score, confusion_matrix, precision_score, recall_score, f1_score, ConfusionMatrixDisplay\n",
    "from sklearn.model_selection import RandomizedSearchCV, train_test_split\n",
    "from scipy.stats import randint\n",
    "\n",
    "rf_model = RandomForestClassifier()\n",
    "rf_model.fit(trainX_scaled, trainY)\n",
    "\n",
    "y_pred = rf_model.predict(testX_scaled)\n",
    "\n",
    "accuracy = accuracy_score(testY, y_pred)\n",
    "print(\"Accuracy:\", accuracy)\n",
    "\n",
    "# Evaluation metric \n",
    "precision = precision_score(testY, y_pred, average='macro')\n",
    "recall = recall_score(testY, y_pred, average='macro')\n",
    "f1 = f1_score(testY, y_pred, average='macro')\n",
    "\n",
    "print(\"Precision:\", precision)\n",
    "print(\"Recall:\", recall)\n",
    "print(\"F1 Score:\", f1)\n",
    "\n",
    "conf_matrix_rf = confusion_matrix(testY, y_pred)\n",
    "\n",
    "# Plot the confusion matrix as a heatmap\n",
    "plt.figure(figsize=(8, 6))\n",
    "sns.heatmap(conf_matrix_rf, annot=True, fmt=\"d\", cmap=\"Blues\")\n",
    "plt.title(\"Confusion Matrix\")\n",
    "plt.xlabel(\"Predicted Labels\")\n",
    "plt.ylabel(\"True Labels\")\n",
    "plt.show()"
   ]
  },
  {
   "cell_type": "code",
   "execution_count": null,
   "metadata": {},
   "outputs": [],
   "source": []
  }
 ],
 "metadata": {
  "kernelspec": {
   "display_name": "base",
   "language": "python",
   "name": "python3"
  },
  "language_info": {
   "codemirror_mode": {
    "name": "ipython",
    "version": 3
   },
   "file_extension": ".py",
   "mimetype": "text/x-python",
   "name": "python",
   "nbconvert_exporter": "python",
   "pygments_lexer": "ipython3",
   "version": "3.9.7"
  },
  "orig_nbformat": 4
 },
 "nbformat": 4,
 "nbformat_minor": 2
}
